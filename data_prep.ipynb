{
 "cells": [
  {
   "cell_type": "markdown",
   "metadata": {},
   "source": [
    "# Quickdraw Data Preperation"
   ]
  },
  {
   "cell_type": "markdown",
   "metadata": {},
   "source": [
    "This notebook is to create a test-{sz} and train-{sz} folders full of .png files from .csvs found in the /train folder.\n",
    "\n",
    "All credit for this work goes to radekosmulski for his inspiration and code.\n",
    "This code is based on code from a fast.ai MOOC that will be publicly available in Jan 2019"
   ]
  },
  {
   "cell_type": "code",
   "execution_count": null,
   "metadata": {},
   "outputs": [],
   "source": [
    "%matplotlib inline\n",
    "import matplotlib.pyplot as plt\n",
    "import pandas as pd\n",
    "import numpy as np\n",
    "from pathlib import Path\n",
    "from concurrent.futures import ThreadPoolExecutor\n",
    "import cv2\n",
    "import shutil\n",
    "import PIL\n",
    "\n",
    "from fastai import *\n",
    "from fastai.vision import *"
   ]
  },
  {
   "cell_type": "markdown",
   "metadata": {},
   "source": []
  },
  {
   "cell_type": "code",
   "execution_count": null,
   "metadata": {},
   "outputs": [],
   "source": [
    "sz = 128 # size\n",
    "r = 0.01 # portion of images to keep, we want only 1% of total train data"
   ]
  },
  {
   "cell_type": "code",
   "execution_count": null,
   "metadata": {},
   "outputs": [],
   "source": [
    "### CAUTION ### The following code will delete any work previously done, be warned!\n",
    "shutil.rmtree(f'data/train-{sz}', ignore_errors=True) # deleting whatever we have saved earlier\n",
    "os.makedirs(f'data/train-{sz}') # best to have where to save the images"
   ]
  },
  {
   "cell_type": "code",
   "execution_count": null,
   "metadata": {},
   "outputs": [],
   "source": [
    "# https://www.kaggle.com/gaborfodor/greyscale-mobilenet-lb-0-892\n",
    "BASE_SIZE = 256\n",
    "def draw_cv2(raw_strokes, size=256, lw=4, time_color=False):\n",
    "    img = np.zeros((BASE_SIZE, BASE_SIZE), np.uint8)\n",
    "    for t, stroke in enumerate(raw_strokes):\n",
    "        for i in range(len(stroke[0]) - 1):\n",
    "            color = 255 - min(t, 10) * 13 if time_color else 255\n",
    "            _ = cv2.line(img, (stroke[0][i], stroke[1][i]),\n",
    "                         (stroke[0][i + 1], stroke[1][i + 1]), color, lw)\n",
    "    img = cv2.copyMakeBorder(img,4,4,4,4,cv2.BORDER_CONSTANT)\n",
    "    if size != BASE_SIZE:\n",
    "        return cv2.resize(img, (size, size), interpolation=cv2.INTER_LINEAR)\n",
    "    else:\n",
    "        return img"
   ]
  },
  {
   "cell_type": "code",
   "execution_count": null,
   "metadata": {},
   "outputs": [],
   "source": [
    "def save_ims_from_df(path):\n",
    "    df = pd.read_csv(path)\n",
    "    selected = df[df.recognized==True].sample(int(r * df.shape[0]))\n",
    "    for row in selected.iterrows():\n",
    "        idx, drawing, label = row[0], eval(row[1].drawing), '_'.join(row[1].word.split())\n",
    "        ary = draw_cv2(drawing, size=128)\n",
    "        rgb_ary = np.repeat(ary[:,:,None], 3, -1)\n",
    "        PIL.Image.fromarray(rgb_ary).save(f'data/train-{sz}/{label}_{idx}.png')"
   ]
  },
  {
   "cell_type": "code",
   "execution_count": null,
   "metadata": {},
   "outputs": [],
   "source": [
    "%%time\n",
    "with ThreadPoolExecutor(12) as e: e.map(save_ims_from_df, Path('data/train').iterdir())"
   ]
  },
  {
   "cell_type": "markdown",
   "metadata": {},
   "source": [
    "Sanity check"
   ]
  },
  {
   "cell_type": "code",
   "execution_count": null,
   "metadata": {},
   "outputs": [],
   "source": [
    "ls data/train-{sz} -lhS | head -n 10"
   ]
  },
  {
   "cell_type": "code",
   "execution_count": null,
   "metadata": {},
   "outputs": [],
   "source": [
    "# PIL.Image.open(f'data/train-{sz}/blackberry_59082.png')"
   ]
  },
  {
   "cell_type": "code",
   "execution_count": null,
   "metadata": {},
   "outputs": [],
   "source": [
    "df = pd.read_csv('data/test_simplified.csv')"
   ]
  },
  {
   "cell_type": "code",
   "execution_count": null,
   "metadata": {},
   "outputs": [],
   "source": [
    "df.head()"
   ]
  },
  {
   "cell_type": "code",
   "execution_count": null,
   "metadata": {},
   "outputs": [],
   "source": [
    "df.shape"
   ]
  },
  {
   "cell_type": "code",
   "execution_count": null,
   "metadata": {},
   "outputs": [],
   "source": [
    "shutil.rmtree(f'data/test-{sz}', ignore_errors=True)\n",
    "os.makedirs(f'data/test-{sz}')"
   ]
  },
  {
   "cell_type": "code",
   "execution_count": null,
   "metadata": {},
   "outputs": [],
   "source": [
    "def save_test_ims_from_df(path):\n",
    "    df = pd.read_csv(path)\n",
    "    for row in df.iterrows():\n",
    "        key_id, drawing = row[1].key_id, eval(row[1].drawing)\n",
    "        ary = draw_cv2(drawing, size=128)\n",
    "        rgb_ary = np.repeat(ary[:,:,None], 3, -1)\n",
    "        PIL.Image.fromarray(rgb_ary).save(f'data/test-{sz}/{key_id}.png')"
   ]
  },
  {
   "cell_type": "code",
   "execution_count": null,
   "metadata": {},
   "outputs": [],
   "source": [
    "%time save_test_ims_from_df('data/test_simplified.csv')"
   ]
  },
  {
   "cell_type": "code",
   "execution_count": null,
   "metadata": {},
   "outputs": [],
   "source": [
    "ls -lht data/test-128 | head -n 10"
   ]
  },
  {
   "cell_type": "code",
   "execution_count": null,
   "metadata": {},
   "outputs": [],
   "source": [
    "PIL.Image.open('data/test-128/9999968529902445.png')"
   ]
  }
 ],
 "metadata": {
  "kernelspec": {
   "display_name": "Python 3",
   "language": "python",
   "name": "python3"
  },
  "language_info": {
   "codemirror_mode": {
    "name": "ipython",
    "version": 3
   },
   "file_extension": ".py",
   "mimetype": "text/x-python",
   "name": "python",
   "nbconvert_exporter": "python",
   "pygments_lexer": "ipython3",
   "version": "3.6.5"
  }
 },
 "nbformat": 4,
 "nbformat_minor": 2
}
